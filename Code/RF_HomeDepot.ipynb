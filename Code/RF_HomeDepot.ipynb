{
 "cells": [
  {
   "cell_type": "code",
   "execution_count": 1,
   "metadata": {
    "collapsed": true
   },
   "outputs": [],
   "source": [
    "import numpy as np\n",
    "import pandas as pd\n",
    "from sklearn.ensemble import RandomForestRegressor, BaggingRegressor\n",
    "from nltk.stem.snowball import SnowballStemmer\n",
    "\n",
    "stemmer = SnowballStemmer('english')"
   ]
  },
  {
   "cell_type": "code",
   "execution_count": 2,
   "metadata": {},
   "outputs": [],
   "source": [
    "import re\n",
    "#List of common words to strip from inputs\n",
    "from nltk.corpus import stopwords\n",
    "comwords = set(stopwords.words('english'))\n",
    "from sklearn.metrics import mean_squared_error, make_scorer\n",
    "import random\n",
    "from sklearn import pipeline, grid_search\n",
    "from sklearn.ensemble import RandomForestClassifier\n",
    "from sklearn.cross_validation import cross_val_score\n",
    "from sklearn.datasets import make_blobs"
   ]
  },
  {
   "cell_type": "code",
   "execution_count": 3,
   "metadata": {},
   "outputs": [],
   "source": [
    "def fmean_squared_error(ground_truth, predictions):\n",
    "    fmean_squared_error_ = mean_squared_error(ground_truth, predictions)**0.5\n",
    "    return fmean_squared_error_\n",
    "\n",
    "RSME  = make_scorer(fmean_squared_error, greater_is_better=False)"
   ]
  },
  {
   "cell_type": "code",
   "execution_count": 4,
   "metadata": {
    "collapsed": true
   },
   "outputs": [],
   "source": [
    "df_train = pd.read_csv('../csv/train.csv', encoding=\"ISO-8859-1\")\n",
    "df_test = pd.read_csv('../csv/test.csv', encoding=\"ISO-8859-1\")\n",
    "# df_attr = pd.read_csv('../input/attributes.csv')\n",
    "df_pro_desc = pd.read_csv('../csv/product_descriptions.csv')"
   ]
  },
  {
   "cell_type": "code",
   "execution_count": 5,
   "metadata": {
    "collapsed": true
   },
   "outputs": [],
   "source": [
    "num_train = df_train.shape[0]"
   ]
  },
  {
   "cell_type": "code",
   "execution_count": 7,
   "metadata": {},
   "outputs": [],
   "source": [
    "def str_stemmer(s):\n",
    "    return \" \".join([stemmer.stem(word) for word in s.lower().split()])\n",
    "\n",
    "# def str_common_word(str1, str2):\n",
    "# return sum(int(str2.find(word)>=0) for word in re.split('[^a-z]',str1))\n",
    "\n",
    "def str_common_word(str1, str2):\n",
    "    str1 = re.split('\\W+',str1)\n",
    "    #Filter Common Words\n",
    "    str1 = filter(lambda w: not w in comwords,str1)\n",
    "    #Search for full word match\n",
    "    return sum(int(word in re.split('\\W+',str2)) for word in str1)\n",
    "\n",
    "def two_grammer(str1, str2):\n",
    "    words1=re.split('\\W+',str1)\n",
    "    words2=re.split('\\W+',str2)\n",
    "    num_2_grams = 0\n",
    "    for i in range(len(words2)-1):\n",
    "        for j in range(len(words1)-1):\n",
    "            num_2_grams = num_2_grams + int(words1[j]==words2[i] and words1[j+1]==words2[i+1])\n",
    "    return num_2_grams\n",
    "\n",
    "def three_grammer(str1, str2):\n",
    "    words1=re.split('\\W+',str1)\n",
    "    words2=re.split('\\W+',str2)\n",
    "    num_3_grams = 0\n",
    "    for i in range(len(words2)-2):\n",
    "        for j in range(len(words1)-2):\n",
    "            num_3_grams = num_3_grams + int(words1[j]==words2[i] and words1[j+1]==words2[i+1] and words1[j+2]==words2[i+2])\n",
    "    return num_3_grams"
   ]
  },
  {
   "cell_type": "code",
   "execution_count": 527,
   "metadata": {
    "scrolled": true
   },
   "outputs": [
    {
     "name": "stdout",
     "output_type": "stream",
     "text": [
      "['', '1/2', '.', '3', '1/4', '.', '6.23', '.', '623', '.', '.', '']\n"
     ]
    }
   ],
   "source": [
    "# Testing string regular expression functionality.\n",
    "\n",
    "string1 = \"The Woodgrain Millwork 1/2 in. x 3-1/4 in. LWM 6.23 Primed MDF base is the perfect addition to dress up any room.  The Woodgrain Millwork Primed MDF LWM 623 base is used cover any imperfections where floor and wall meet.  Base Moulding can also be used as starter point for a more elaborate built up base boards.   Combing other \"\n",
    "string2 = \"duck pizza chips4 sandwich\"\n",
    "nonwords1=re.split('[^0-9/-/]+',string1)\n",
    "nonwords2=re.split('[0-9]',string2)\n",
    "\n",
    "print nonwords1\n",
    "#sum(int(nonword in nonwords1 for word in nonwords2))\n",
    "#['this', 'is'] in words1\n",
    "#sum(int(\"this is\".find(word)>=0) for word in \"this and\".split())"
   ]
  },
  {
   "cell_type": "code",
   "execution_count": 8,
   "metadata": {
    "collapsed": true
   },
   "outputs": [],
   "source": [
    "df_all = pd.concat((df_train, df_test), axis=0, ignore_index=True)\n",
    "\n",
    "df_all = pd.merge(df_all, df_pro_desc, how='left', on='product_uid')"
   ]
  },
  {
   "cell_type": "code",
   "execution_count": 10,
   "metadata": {
    "scrolled": true
   },
   "outputs": [],
   "source": [
    "df_all_original = df_all\n",
    "df_all['search_term'] = df_all['search_term'].map(lambda x:str_stemmer(x))\n",
    "df_all['product_title'] = df_all['product_title'].map(lambda x:str_stemmer(x))\n",
    "df_all['product_description'] = df_all['product_description'].map(lambda x:str_stemmer(x))"
   ]
  },
  {
   "cell_type": "code",
   "execution_count": 11,
   "metadata": {},
   "outputs": [],
   "source": [
    "df_all['len_of_query'] = df_all['search_term'].map(lambda x:len(x.split())).astype(np.int64)"
   ]
  },
  {
   "cell_type": "code",
   "execution_count": 12,
   "metadata": {
    "collapsed": true
   },
   "outputs": [],
   "source": [
    "df_all['product_info'] = df_all['search_term']+\"\\t\"+df_all['product_title']+\"\\t\"+df_all['product_description']"
   ]
  },
  {
   "cell_type": "code",
   "execution_count": 13,
   "metadata": {},
   "outputs": [],
   "source": [
    "df_all['word_in_title'] = df_all['product_info'].map(lambda x:str_common_word(x.split('\\t')[0],x.split('\\t')[1]))"
   ]
  },
  {
   "cell_type": "code",
   "execution_count": 14,
   "metadata": {
    "collapsed": true
   },
   "outputs": [],
   "source": [
    "df_all['word_in_description'] = df_all['product_info'].map(lambda x:str_common_word(x.split('\\t')[0],x.split('\\t')[2]))"
   ]
  },
  {
   "cell_type": "code",
   "execution_count": 15,
   "metadata": {},
   "outputs": [],
   "source": [
    "df_all['two_grams_in_title'] = df_all['product_info'].map(lambda x:two_grammer(x.split('\\t')[0],x.split('\\t')[1]))\n",
    "df_all['two_grams_in_desc'] = df_all['product_info'].map(lambda x:two_grammer(x.split('\\t')[0],x.split('\\t')[2]))\n",
    "df_all['three_grams_in_title'] = df_all['product_info'].map(lambda x:three_grammer(x.split('\\t')[0],x.split('\\t')[1]))\n",
    "df_all['three_grams_in_desc'] = df_all['product_info'].map(lambda x:three_grammer(x.split('\\t')[0],x.split('\\t')[2]))"
   ]
  },
  {
   "cell_type": "code",
   "execution_count": 20,
   "metadata": {},
   "outputs": [],
   "source": [
    "df_all.to_csv(\"df_all2.csv\", encoding=\"ISO-8859-1\")\n",
    "df_all_play=df_all"
   ]
  },
  {
   "cell_type": "code",
   "execution_count": 21,
   "metadata": {
    "collapsed": true
   },
   "outputs": [],
   "source": [
    "df_all = df_all.drop(['search_term','product_title','product_description','product_info'],axis=1)"
   ]
  },
  {
   "cell_type": "code",
   "execution_count": 22,
   "metadata": {},
   "outputs": [],
   "source": [
    "df_train1 = df_all.iloc[:num_train]\n",
    "#rows = random.sample(df_train1.index, 5000)\n",
    "\n",
    "df_train = df_all.iloc[:num_train]\n",
    "#df_test = df_all.iloc[rows]\n",
    "df_submit = df_all.iloc[num_train:]\n",
    "id_test = df_submit['id']"
   ]
  },
  {
   "cell_type": "code",
   "execution_count": 23,
   "metadata": {},
   "outputs": [],
   "source": [
    "y_train = df_train['relevance'].values\n",
    "X_train = df_train.drop(['id','relevance'],axis=1).values\n",
    "#X_test = df_test.drop(['id','relevance'],axis=1).values\n",
    "#y_test_data = df_test['relevance'].values\n",
    "X_submit = df_submit.drop(['id','relevance'],axis=1).values"
   ]
  },
  {
   "cell_type": "code",
   "execution_count": 24,
   "metadata": {},
   "outputs": [],
   "source": [
    "#First Regressor Choice\n",
    "rf = RandomForestRegressor(n_estimators=15, max_depth=7, random_state=0)\n",
    "clf = BaggingRegressor(rf, n_estimators=45, max_samples=0.1, random_state=25)\n",
    "clf.fit(X_train, y_train)\n",
    "#y_test = clf.predict(X_test)\n",
    "y_pred = clf.predict(X_submit)"
   ]
  },
  {
   "cell_type": "code",
   "execution_count": null,
   "metadata": {},
   "outputs": [],
   "source": [
    "#Custom Regressor Choice\n",
    "rf = RandomForestRegressor(n_estimators=30, max_depth=None, random_state=0, verbose=1, n_jobs=3)\n",
    "clf = BaggingRegressor(rf, n_estimators=45)\n",
    "clf.fit(X_train, y_train)\n",
    "#y_test = clf.predict(X_test)\n",
    "y_pred = clf.predict(X_submit)"
   ]
  },
  {
   "cell_type": "code",
   "execution_count": 30,
   "metadata": {},
   "outputs": [
    {
     "name": "stdout",
     "output_type": "stream",
     "text": [
      "[ 0.05740798  0.02344712 -0.09096177]\n"
     ]
    }
   ],
   "source": [
    "print cross_val_score(clf, X_train, y_train, n_jobs=3)"
   ]
  },
  {
   "cell_type": "code",
   "execution_count": null,
   "metadata": {},
   "outputs": [],
   "source": [
    "X, y = make_blobs(n_samples=10000, n_features=10, centers = 100, random_state=0)\n",
    "clfclass = RandomForestClassifier(n_estimators=10, max_depth=None, min_samples_split=1, random_state=0)\n",
    "scores = cross_val_score(clfclass, X, y)\n",
    "print scores"
   ]
  },
  {
   "cell_type": "code",
   "execution_count": null,
   "metadata": {
    "collapsed": true
   },
   "outputs": [],
   "source": [
    "#rfr = RandomForestRegressor()\n",
    "#clf = pipeline.Pipeline([('rfr', rfr)])\n",
    "#param_grid = {'rfr__n_estimators' : list(range(22,26,1)), 'rfr__max_depth': list(range(6,9,1))}\n",
    "#model = grid_search.GridSearchCV(estimator = clf, param_grid = param_grid, n_jobs = -1, cv = 2, verbose = 20, scoring=RSME)\n",
    "#model.fit(X_train, y_train)"
   ]
  },
  {
   "cell_type": "code",
   "execution_count": 537,
   "metadata": {},
   "outputs": [
    {
     "data": {
      "text/plain": [
       "0.48749692596475092"
      ]
     },
     "execution_count": 537,
     "metadata": {},
     "output_type": "execute_result"
    }
   ],
   "source": [
    "mean_squared_error(y_test,y_test_data)**0.5"
   ]
  },
  {
   "cell_type": "code",
   "execution_count": 486,
   "metadata": {},
   "outputs": [],
   "source": [
    "pd.DataFrame({\"id\": id_test, \"relevance\": y_pred}).to_csv('submission_V9.csv',index=False)"
   ]
  },
  {
   "cell_type": "code",
   "execution_count": 547,
   "metadata": {
    "scrolled": true
   },
   "outputs": [
    {
     "data": {
      "text/html": [
       "<div>\n",
       "<table border=\"1\" class=\"dataframe\">\n",
       "  <thead>\n",
       "    <tr style=\"text-align: right;\">\n",
       "      <th></th>\n",
       "      <th>id</th>\n",
       "      <th>relevance</th>\n",
       "      <th>len_of_query</th>\n",
       "      <th>word_in_title</th>\n",
       "      <th>word_in_description</th>\n",
       "      <th>two_grams_in_title</th>\n",
       "      <th>two_grams_in_desc</th>\n",
       "      <th>three_grams_in_title</th>\n",
       "      <th>three_grams_in_desc</th>\n",
       "      <th>product_uid</th>\n",
       "    </tr>\n",
       "  </thead>\n",
       "  <tbody>\n",
       "    <tr>\n",
       "      <th>0</th>\n",
       "      <td>2</td>\n",
       "      <td>3.00</td>\n",
       "      <td>2</td>\n",
       "      <td>1</td>\n",
       "      <td>1</td>\n",
       "      <td>0</td>\n",
       "      <td>0</td>\n",
       "      <td>0</td>\n",
       "      <td>0</td>\n",
       "      <td>100001</td>\n",
       "    </tr>\n",
       "    <tr>\n",
       "      <th>1</th>\n",
       "      <td>3</td>\n",
       "      <td>2.50</td>\n",
       "      <td>2</td>\n",
       "      <td>0</td>\n",
       "      <td>0</td>\n",
       "      <td>0</td>\n",
       "      <td>0</td>\n",
       "      <td>0</td>\n",
       "      <td>0</td>\n",
       "      <td>100001</td>\n",
       "    </tr>\n",
       "    <tr>\n",
       "      <th>2</th>\n",
       "      <td>9</td>\n",
       "      <td>3.00</td>\n",
       "      <td>2</td>\n",
       "      <td>0</td>\n",
       "      <td>1</td>\n",
       "      <td>0</td>\n",
       "      <td>0</td>\n",
       "      <td>0</td>\n",
       "      <td>0</td>\n",
       "      <td>100002</td>\n",
       "    </tr>\n",
       "    <tr>\n",
       "      <th>3</th>\n",
       "      <td>16</td>\n",
       "      <td>2.33</td>\n",
       "      <td>3</td>\n",
       "      <td>1</td>\n",
       "      <td>1</td>\n",
       "      <td>0</td>\n",
       "      <td>0</td>\n",
       "      <td>0</td>\n",
       "      <td>0</td>\n",
       "      <td>100005</td>\n",
       "    </tr>\n",
       "    <tr>\n",
       "      <th>4</th>\n",
       "      <td>17</td>\n",
       "      <td>2.67</td>\n",
       "      <td>3</td>\n",
       "      <td>2</td>\n",
       "      <td>2</td>\n",
       "      <td>2</td>\n",
       "      <td>0</td>\n",
       "      <td>1</td>\n",
       "      <td>0</td>\n",
       "      <td>100005</td>\n",
       "    </tr>\n",
       "  </tbody>\n",
       "</table>\n",
       "</div>"
      ],
      "text/plain": [
       "   id  relevance  len_of_query  word_in_title  word_in_description  \\\n",
       "0   2       3.00             2              1                    1   \n",
       "1   3       2.50             2              0                    0   \n",
       "2   9       3.00             2              0                    1   \n",
       "3  16       2.33             3              1                    1   \n",
       "4  17       2.67             3              2                    2   \n",
       "\n",
       "   two_grams_in_title  two_grams_in_desc  three_grams_in_title  \\\n",
       "0                   0                  0                     0   \n",
       "1                   0                  0                     0   \n",
       "2                   0                  0                     0   \n",
       "3                   0                  0                     0   \n",
       "4                   2                  0                     1   \n",
       "\n",
       "   three_grams_in_desc  product_uid  \n",
       "0                    0       100001  \n",
       "1                    0       100001  \n",
       "2                    0       100002  \n",
       "3                    0       100005  \n",
       "4                    0       100005  "
      ]
     },
     "execution_count": 547,
     "metadata": {},
     "output_type": "execute_result"
    }
   ],
   "source": [
    "df_all.head()"
   ]
  }
 ],
 "metadata": {
  "kernelspec": {
   "display_name": "Python 3",
   "language": "python",
   "name": "python3"
  },
  "language_info": {
   "codemirror_mode": {
    "name": "ipython",
    "version": 3
   },
   "file_extension": ".py",
   "mimetype": "text/x-python",
   "name": "python",
   "nbconvert_exporter": "python",
   "pygments_lexer": "ipython3",
   "version": "3.6.8"
  }
 },
 "nbformat": 4,
 "nbformat_minor": 1
}
